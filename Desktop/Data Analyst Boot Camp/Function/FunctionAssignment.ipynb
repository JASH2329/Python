{
 "cells": [
  {
   "cell_type": "code",
   "execution_count": 1,
   "metadata": {},
   "outputs": [
    {
     "name": "stdout",
     "output_type": "stream",
     "text": [
      "4\n"
     ]
    }
   ],
   "source": [
    "# Define a function that takes a single integer as input and returns its square. Test the function with different inputs.\n",
    "\n",
    "def square(x):\n",
    "    return x**2\n",
    "\n",
    "print(square(2))"
   ]
  },
  {
   "cell_type": "code",
   "execution_count": 2,
   "metadata": {},
   "outputs": [
    {
     "name": "stdout",
     "output_type": "stream",
     "text": [
      "5\n"
     ]
    }
   ],
   "source": [
    "# Define a function that takes two integers as input and returns their sum. Test the function with different inputs.\n",
    "\n",
    "def add(x,y):\n",
    "    return x+y\n",
    "\n",
    "print(add(2,3))"
   ]
  },
  {
   "cell_type": "code",
   "execution_count": null,
   "metadata": {},
   "outputs": [
    {
     "name": "stdout",
     "output_type": "stream",
     "text": [
      "7\n",
      "5\n"
     ]
    }
   ],
   "source": [
    "# Define a function that takes two integers as input and returns their sum. The second integer should have a default value of 5. Test the function with different inputs.\n",
    "\n",
    "def add(x,y=5):\n",
    "    return x+y\n",
    "\n",
    "print(add(2))\n",
    "print(add(2,3))\n",
    "## When we give a default value and input for that value is not entered then it takes that default value as an input "
   ]
  },
  {
   "cell_type": "code",
   "execution_count": 5,
   "metadata": {},
   "outputs": [
    {
     "name": "stdout",
     "output_type": "stream",
     "text": [
      "Shreyash Kale is 30 years old.\n",
      "Jaspreet Kaur is 40 years old.\n"
     ]
    }
   ],
   "source": [
    "# Define a function that takes three named arguments: first_name, last_name, and age, and returns a formatted string. Test the function with different inputs.\n",
    "\n",
    "def format_person(first_name, last_name, age):\n",
    "    return f\"{first_name} {last_name} is {age} years old.\"\n",
    "\n",
    "print(format_person(\"Shreyash\", \"Kale\", 30))\n",
    "print(format_person(\"Jaspreet\", \"Kaur\", 40))"
   ]
  },
  {
   "cell_type": "code",
   "execution_count": null,
   "metadata": {},
   "outputs": [
    {
     "name": "stdout",
     "output_type": "stream",
     "text": [
      "24\n"
     ]
    }
   ],
   "source": [
    "# Define a function that takes a variable number of integer arguments and returns their product. Test the function with different inputs.\n",
    "\n",
    "def multiply(*args):  #The * (asterisk) before args tells Python to treat all positional arguments as a tuple.\n",
    "    product = 1\n",
    "    for num in args:\n",
    "        product *= num\n",
    "    return product\n",
    "\n",
    "print(multiply(2,3,4))"
   ]
  },
  {
   "cell_type": "code",
   "execution_count": 11,
   "metadata": {},
   "outputs": [
    {
     "name": "stdout",
     "output_type": "stream",
     "text": [
      "6\n"
     ]
    }
   ],
   "source": [
    "#Define a function that contains another function inside it. The outer function should take two integers as input and return the result of the inner function, which multiplies the two integers. Test the function with different inputs.\n",
    "\n",
    "def outer_function(x,y):\n",
    "    def inner_function(a,b):\n",
    "        return a*b\n",
    "    return inner_function(x,y)\n",
    "\n",
    "''' When calling inner_function(x, y), the values of x and y from outer_function are passed as arguments to inner_function(a, b). So:\n",
    "\n",
    "a = x\n",
    "b = y '''\n",
    "\n",
    "print(outer_function(2,3))\n"
   ]
  },
  {
   "cell_type": "code",
   "execution_count": 13,
   "metadata": {},
   "outputs": [
    {
     "name": "stdout",
     "output_type": "stream",
     "text": [
      "(4, 8, 16)\n"
     ]
    }
   ],
   "source": [
    "# Define a function that takes a single integer as input and returns the integer squared, cubed, and raised to the power of four. Test the function with different inputs.\n",
    "\n",
    "def powers(x):\n",
    "    return x**2, x**3, x**4\n",
    "\n",
    "print(powers(2))"
   ]
  },
  {
   "cell_type": "code",
   "execution_count": null,
   "metadata": {},
   "outputs": [
    {
     "name": "stdout",
     "output_type": "stream",
     "text": [
      "120\n"
     ]
    }
   ],
   "source": [
    "# Define a recursive function that calculates the factorial of a given number. Test the function with different inputs.\n",
    "\n",
    "def factorial(n):\n",
    "    if n==0:\n",
    "        return 1\n",
    "    else:\n",
    "        return n * factorial(n-1)\n",
    "    \n",
    "print(factorial(5))\n",
    "\n",
    "#The most obvious sign of recursion is when a function calls itself within its body like here factorial fuction was called inside the function"
   ]
  },
  {
   "cell_type": "code",
   "execution_count": null,
   "metadata": {},
   "outputs": [
    {
     "name": "stdout",
     "output_type": "stream",
     "text": [
      "5\n"
     ]
    }
   ],
   "source": [
    "# Define a lambda function that takes two integers as input and returns their sum. Test the lambda function with different inputs.\n",
    "\n",
    "add = lambda x,y: x + y\n",
    "\n",
    "print(add(2,3))\n",
    "\n",
    "# A lambda function is a small, anonymous function that can have any number of arguments but only one expression."
   ]
  },
  {
   "cell_type": "code",
   "execution_count": null,
   "metadata": {},
   "outputs": [
    {
     "name": "stdout",
     "output_type": "stream",
     "text": [
      "[1, 4, 9, 16, 25]\n"
     ]
    }
   ],
   "source": [
    "# Use the map function to apply a lambda function that squares each number in a list of integers. Test with different lists.\n",
    "\n",
    "numbers = [1,2,3,4,5]\n",
    "\n",
    "square = list(map(lambda x : x ** 2, numbers))\n",
    "\n",
    "print(square)\n",
    "\n",
    "# A map function is used to iterate the data structure without using for loop and i can be used with regular fucntion, lambda function and multiple iterable that helps in data processing "
   ]
  },
  {
   "cell_type": "code",
   "execution_count": null,
   "metadata": {},
   "outputs": [
    {
     "name": "stdout",
     "output_type": "stream",
     "text": [
      "[2, 4, 6, 8, 10]\n"
     ]
    }
   ],
   "source": [
    "# Use the filter function to filter out all odd numbers from a list of integers. Test with different lists.\n",
    "numbers = [1,2,3,4,5,6,7,8,9,10]\n",
    "\n",
    "Even_Number = list(filter(lambda x : x%2 == 0, numbers))\n",
    "\n",
    "print(Even_Number)\n",
    "\n",
    "# Filter function is powerful tool for creating iterators that filter items out of an iterables based on a function. \n",
    "# It is used in data cleaning, filtering obejcts and removing unwanted element from lists\n"
   ]
  },
  {
   "cell_type": "code",
   "execution_count": null,
   "metadata": {},
   "outputs": [
    {
     "name": "stdout",
     "output_type": "stream",
     "text": [
      "Executing Function\n",
      "Function Executed\n",
      "15\n"
     ]
    },
    {
     "data": {
      "text/plain": [
       "'\\'\\n-my_decorator is a decorator function that takes another function func as input.\\'\\n-The wrapper function takes any number of arguments (*args, **kwargs) to ensure it works with different functions.\\n## Flow of execution\\nsum_list([1, 2, 3, 4, 5]) is called.\\nSince sum_list is now decorated, wrapper() runs instead:\\nPrints: \"Executing function...\"\\nCalls sum_list([1, 2, 3, 4, 5]) (which is now func(*args, **kwargs))\\nsum([1, 2, 3, 4, 5]) = 15\\nPrints: \"Function executed.\"\\nReturns 15\\n\\n-Decorators are useful for logging, authentication, and modifying functions dynamically.\\n-*args → Accepts any number of positional arguments (stored as a tuple).\\n-**kwargs → Accepts any number of keyword arguments (stored as a dictionary).\\n-You can use both together in any order, but *args must come before **kwargs.\\n\\n'"
      ]
     },
     "execution_count": 3,
     "metadata": {},
     "output_type": "execute_result"
    }
   ],
   "source": [
    "# Define a decorator function that prints 'Executing function...' before executing a function and 'Function executed.' after executing it. Apply this decorator to a function that takes a list of integers and returns their sum. Test the decorated function with different lists.\n",
    "def my_decorator(func):\n",
    "    def wrapper(*args, **kwargs):\n",
    "        print('Executing Function')\n",
    "        result = func(*args, **kwargs)\n",
    "        print('Function Executed')\n",
    "        return result\n",
    "    return wrapper\n",
    "\n",
    "@my_decorator\n",
    "def sum_list(lst):\n",
    "    return sum(lst)\n",
    "\n",
    "print(sum_list([1,2,3,4,5]))\n",
    "\n",
    "''''\n",
    "-my_decorator is a decorator function that takes another function func as input.'\n",
    "-The wrapper function takes any number of arguments (*args, **kwargs) to ensure it works with different functions.\n",
    "## Flow of execution\n",
    "sum_list([1, 2, 3, 4, 5]) is called.\n",
    "Since sum_list is now decorated, wrapper() runs instead:\n",
    "Prints: \"Executing function...\"\n",
    "Calls sum_list([1, 2, 3, 4, 5]) (which is now func(*args, **kwargs))\n",
    "sum([1, 2, 3, 4, 5]) = 15\n",
    "Prints: \"Function executed.\"\n",
    "Returns 15\n",
    "\n",
    "-Decorators are useful for logging, authentication, and modifying functions dynamically.\n",
    "-*args → Accepts any number of positional arguments (stored as a tuple).\n",
    "-**kwargs → Accepts any number of keyword arguments (stored as a dictionary).\n",
    "-You can use both together in any order, but *args must come before **kwargs.\n",
    "\n",
    "'''"
   ]
  },
  {
   "cell_type": "code",
   "execution_count": 9,
   "metadata": {},
   "outputs": [
    {
     "name": "stdout",
     "output_type": "stream",
     "text": [
      "(1, 2, 3)\n",
      "{'a': 'Apple', 'b': 'Banana'}\n",
      "None\n"
     ]
    }
   ],
   "source": [
    "# Define a function that takes variable-length arguments and keyword arguments and prints them. Test the function with different inputs.\n",
    "\n",
    "def print_args_kwargs(*args, **kwargs):\n",
    "    print(args)\n",
    "    print(kwargs)\n",
    "   \n",
    "\n",
    "print(print_args_kwargs(1,2,3, a='Apple', b='Banana'))"
   ]
  },
  {
   "cell_type": "code",
   "execution_count": null,
   "metadata": {},
   "outputs": [
    {
     "name": "stdout",
     "output_type": "stream",
     "text": [
      "[1, 4, 9, 16, 25]\n"
     ]
    }
   ],
   "source": [
    "# Define a higher-order function that takes a function and a list of integers as arguments, and applies the function to each integer in the list. Test with different functions and lists.\n",
    "\n",
    "def apply_function(func, lst):\n",
    "    return[func(x) for x in lst]\n",
    "\n",
    "print(apply_function(lambda x:x**2, [1,2,3,4,5]))\n",
    "\n",
    "# A higher-order function is a function that takes another function as an argument or returns a function as a result.\n",
    "''''\n",
    "Key differences between high order and recurssion'\n",
    "-Recursion calls itself until a base case is met\n",
    "-Calls another function passed as an argument\n",
    "'''"
   ]
  },
  {
   "cell_type": "code",
   "execution_count": null,
   "metadata": {},
   "outputs": [],
   "source": []
  }
 ],
 "metadata": {
  "kernelspec": {
   "display_name": "Python 3",
   "language": "python",
   "name": "python3"
  },
  "language_info": {
   "codemirror_mode": {
    "name": "ipython",
    "version": 3
   },
   "file_extension": ".py",
   "mimetype": "text/x-python",
   "name": "python",
   "nbconvert_exporter": "python",
   "pygments_lexer": "ipython3",
   "version": "3.12.0"
  }
 },
 "nbformat": 4,
 "nbformat_minor": 2
}
