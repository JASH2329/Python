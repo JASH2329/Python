{
 "cells": [
  {
   "cell_type": "markdown",
   "metadata": {},
   "source": [
    "# Module: NumPy Assignments\n",
    "## Lesson: NumPy\n",
    "### Assignment 1: Array Creation and Manipulation\n",
    "\n",
    "1. Create a NumPy array of shape (5, 5) filled with random integers between 1 and 20. Replace all the elements in the third column with 1.\n",
    "2. Create a NumPy array of shape (4, 4) with values from 1 to 16. Replace the diagonal elements with 0.\n",
    "\n",
    "### Assignment 2: Array Indexing and Slicing\n",
    "\n",
    "1. Create a NumPy array of shape (6, 6) with values from 1 to 36. Extract the sub-array consisting of the 3rd to 5th rows and 2nd to 4th columns.\n",
    "2. Create a NumPy array of shape (5, 5) with random integers. Extract the elements on the border.\n",
    "\n",
    "### Assignment 3: Array Operations\n",
    "\n",
    "1. Create two NumPy arrays of shape (3, 4) filled with random integers. Perform element-wise addition, subtraction, multiplication, and division.\n",
    "2. Create a NumPy array of shape (4, 4) with values from 1 to 16. Compute the row-wise and column-wise sum.\n",
    "\n",
    "### Assignment 4: Statistical Operations\n",
    "\n",
    "1. Create a NumPy array of shape (5, 5) filled with random integers. Compute the mean, median, standard deviation, and variance of the array.\n",
    "2. Create a NumPy array of shape (3, 3) with values from 1 to 9. Normalize the array (i.e., scale the values to have a mean of 0 and a standard deviation of 1).\n",
    "\n",
    "### Assignment 5: Broadcasting\n",
    "\n",
    "1. Create a NumPy array of shape (3, 3) filled with random integers. Add a 1D array of shape (3,) to each row of the 2D array using broadcasting.\n",
    "2. Create a NumPy array of shape (4, 4) filled with random integers. Subtract a 1D array of shape (4,) from each column of the 2D array using broadcasting.\n",
    "\n",
    "### Assignment 6: Linear Algebra\n",
    "\n",
    "1. Create a NumPy array of shape (3, 3) representing a matrix. Compute its determinant, inverse, and eigenvalues.\n",
    "2. Create two NumPy arrays of shape (2, 3) and (3, 2). Perform matrix multiplication on these arrays.\n",
    "\n",
    "### Assignment 7: Advanced Array Manipulation\n",
    "\n",
    "1. Create a NumPy array of shape (3, 3) with values from 1 to 9. Reshape the array to shape (1, 9) and then to shape (9, 1).\n",
    "2. Create a NumPy array of shape (5, 5) filled with random integers. Flatten the array and then reshape it back to (5, 5).\n",
    "\n",
    "### Assignment 8: Fancy Indexing and Boolean Indexing\n",
    "\n",
    "1. Create a NumPy array of shape (5, 5) filled with random integers. Use fancy indexing to extract the elements at the corners of the array.\n",
    "2. Create a NumPy array of shape (4, 4) filled with random integers. Use boolean indexing to set all elements greater than 10 to 10.\n",
    "\n",
    "### Assignment 9: Structured Arrays\n",
    "\n",
    "1. Create a structured array with fields 'name' (string), 'age' (integer), and 'weight' (float). Add some data and sort the array by age.\n",
    "2. Create a structured array with fields 'x' and 'y' (both integers). Add some data and compute the Euclidean distance between each pair of points.\n",
    "\n",
    "### Assignment 10: Masked Arrays\n",
    "\n",
    "1. Create a masked array of shape (4, 4) with random integers and mask the elements greater than 10. Compute the sum of the unmasked elements.\n",
    "2. Create a masked array of shape (3, 3) with random integers and mask the diagonal elements. Replace the masked elements with the mean of the unmasked elements."
   ]
  },
  {
   "cell_type": "code",
   "execution_count": 14,
   "metadata": {},
   "outputs": [
    {
     "name": "stdout",
     "output_type": "stream",
     "text": [
      "Orignal Array:\n",
      "[[15  6  7 14  8]\n",
      " [ 5 18  5  7 18]\n",
      " [ 1 15  3  6 12]\n",
      " [ 6  5  8 10  5]\n",
      " [ 8 16 13  1 11]]\n",
      "Modified Array:\n",
      "[[15  6  1 14  8]\n",
      " [ 5 18  1  7 18]\n",
      " [ 1 15  1  6 12]\n",
      " [ 6  5  1 10  5]\n",
      " [ 8 16  1  1 11]]\n"
     ]
    }
   ],
   "source": [
    "import numpy as np\n",
    "\n",
    "# Create a Numpy array of shape (5,5) filled with random integers \n",
    "array = np.random.randint(1,21, size = (5,5))\n",
    "print(\"Orignal Array:\")\n",
    "print(array)\n",
    "\n",
    "# Replace all the elements in the third column with 1 \n",
    "array[:,2]=1\n",
    "# print(array[:])\n",
    "print(\"Modified Array:\")\n",
    "print(array) "
   ]
  },
  {
   "cell_type": "code",
   "execution_count": 16,
   "id": "5bce2db8",
   "metadata": {},
   "outputs": [
    {
     "name": "stdout",
     "output_type": "stream",
     "text": [
      "Orignal array:\n",
      "[[ 1  2  3  4]\n",
      " [ 5  6  7  8]\n",
      " [ 9 10 11 12]\n",
      " [13 14 15 16]]\n",
      "Modified array:\n",
      "[[ 0  2  3  4]\n",
      " [ 5  0  7  8]\n",
      " [ 9 10  0 12]\n",
      " [13 14 15  0]]\n"
     ]
    }
   ],
   "source": [
    "# Create a Numpy array of shape (4,4) with values from 1 to 16\n",
    "array = np.arange(1,17).reshape((4,4))  ## The np.arange function in NumPy is used to create arrays\n",
    "                                         ## .reshape((4,4)) takes the 1D array and rearranges it into a 4x4 matrix\n",
    "print(\"Orignal array:\")\n",
    "print(array)\n",
    "\n",
    "# Replace the disgonal elements with 0\n",
    "np.fill_diagonal(array, 0)\n",
    "print(\"Modified array:\")\n",
    "print(array)"
   ]
  },
  {
   "cell_type": "code",
   "execution_count": 18,
   "id": "bd1a52cc",
   "metadata": {},
   "outputs": [
    {
     "name": "stdout",
     "output_type": "stream",
     "text": [
      "Orignal Value:\n",
      "[[ 1  2  3  4  5  6]\n",
      " [ 7  8  9 10 11 12]\n",
      " [13 14 15 16 17 18]\n",
      " [19 20 21 22 23 24]\n",
      " [25 26 27 28 29 30]\n",
      " [31 32 33 34 35 36]]\n",
      "[[14 15 16]\n",
      " [20 21 22]\n",
      " [26 27 28]]\n"
     ]
    }
   ],
   "source": [
    "# Create a Numpy array of shape (6,6) with values from 1 to 36\n",
    "array = np.arange(1,37).reshape(6,6)\n",
    "print(\"Orignal Value:\")\n",
    "print(array)\n",
    "\n",
    "# Extract the sub-array\n",
    "print(array[2:5, 1:4])"
   ]
  },
  {
   "cell_type": "code",
   "execution_count": null,
   "id": "3086b612",
   "metadata": {},
   "outputs": [
    {
     "name": "stdout",
     "output_type": "stream",
     "text": [
      "Orignal array:\n",
      "[[ 7  5  2  9 11]\n",
      " [15  3 18  4  2]\n",
      " [20  1 16 12  1]\n",
      " [ 2  4  4  4 16]\n",
      " [ 5  6  2 11 17]]\n",
      "Modified Array:\n",
      "Border Elements:\n",
      "[ 7  5  2  9 11  5  6  2 11 17 15 20  2  2  1 16]\n"
     ]
    }
   ],
   "source": [
    "array = np.random.randint(1,21,size = (5,5))\n",
    "print(\"Orignal array:\")\n",
    "print(array)\n",
    "\n",
    "# Extract the elemenets on the border\n",
    "print(\"Modified Array:\")\n",
    "border_elements = np.concatenate((array[0,:], array[-1,:], array[1:-1,0], array[1:-1, -1]))\n",
    "## We used concatenate to combine all the elements from border and make it an single array\n",
    "print(\"Border Elements:\")\n",
    "print(border_elements)"
   ]
  },
  {
   "cell_type": "code",
   "execution_count": 34,
   "id": "059d33c6",
   "metadata": {},
   "outputs": [
    {
     "name": "stdout",
     "output_type": "stream",
     "text": [
      "Array 1:\n",
      "[[ 8  7  1  1]\n",
      " [10  7  3  2]\n",
      " [10 10  8 10]]\n",
      "Array 2:\n",
      "[[5 5 7 4]\n",
      " [1 2 4 9]\n",
      " [4 8 2 9]]\n",
      "Addition\n",
      "[[13 12  8  5]\n",
      " [11  9  7 11]\n",
      " [14 18 10 19]]\n",
      "substraction\n",
      "[[ 3  2 -6 -3]\n",
      " [ 9  5 -1 -7]\n",
      " [ 6  2  6  1]]\n",
      "Multiplication\n",
      "[[40 35  7  4]\n",
      " [10 14 12 18]\n",
      " [40 80 16 90]]\n",
      "Division\n",
      "[[1. 1. 1. 1.]\n",
      " [1. 1. 1. 1.]\n",
      " [1. 1. 1. 1.]]\n"
     ]
    }
   ],
   "source": [
    "array1 = np.random.randint(1,11, size = (3,4))\n",
    "array2 = np.random.randint(1,11, size = (3,4))\n",
    "print('Array 1:')\n",
    "print(array1)\n",
    "print(\"Array 2:\")\n",
    "print(array2)\n",
    "\n",
    "# Perform element wise operations \n",
    "addition = array1 + array2\n",
    "substraction = array1 - array2\n",
    "multiplication = array1 * array2\n",
    "division = array2 / array2\n",
    "\n",
    "print(\"Addition\")\n",
    "print(addition)\n",
    "print(\"substraction\")\n",
    "print(substraction)\n",
    "print(\"Multiplication\")\n",
    "print(multiplication)\n",
    "print(\"Division\")\n",
    "print(division)"
   ]
  },
  {
   "cell_type": "code",
   "execution_count": 36,
   "id": "eb00d9fa",
   "metadata": {},
   "outputs": [
    {
     "name": "stdout",
     "output_type": "stream",
     "text": [
      "Orignal array:\n",
      "[[ 1  2  3  4]\n",
      " [ 5  6  7  8]\n",
      " [ 9 10 11 12]\n",
      " [13 14 15 16]]\n",
      "Row-wise sum:\n",
      "[10 26 42 58]\n",
      "Column-wise sum:\n",
      "[28 32 36 40]\n"
     ]
    }
   ],
   "source": [
    "# Create a Numpy array of shape (4,4) with values from 1 to 16\n",
    "\n",
    "array = np.arange(1,17).reshape((4,4))\n",
    "print(\"Orignal array:\")\n",
    "print(array)\n",
    "\n",
    "# Compute the row-wise and column-wise sum \n",
    "row_sum = np.sum(array, axis=1)\n",
    "column_sum = np.sum(array, axis=0)\n",
    "\n",
    "print(\"Row-wise sum:\")\n",
    "print(row_sum)\n",
    "print(\"Column-wise sum:\")\n",
    "print(column_sum)"
   ]
  },
  {
   "cell_type": "code",
   "execution_count": 37,
   "id": "bde5cd19",
   "metadata": {},
   "outputs": [
    {
     "name": "stdout",
     "output_type": "stream",
     "text": [
      "Orignal Array:\n",
      "[[ 8  7 14  7  2]\n",
      " [11 12 15 18 13]\n",
      " [20  2  3 19 17]\n",
      " [ 7  8  3 16 10]\n",
      " [ 4 16  1 10  6]]\n",
      "Mean: 9.96\n",
      "Median: 10.0\n",
      "Standard Deviation: 5.709500853840027\n",
      "Variance: 32.5984\n"
     ]
    }
   ],
   "source": [
    "# Create a Numpy array of shape (5,5) filled with random integers\n",
    "array = np.random.randint(1,21, size = (5,5))\n",
    "print(\"Orignal Array:\")\n",
    "print(array)\n",
    "\n",
    "## Compute the statistical values \n",
    "mean = np.mean(array)\n",
    "median = np.median(array)\n",
    "std_dev = np.std(array)\n",
    "variance = np.var(array)\n",
    "\n",
    "print(\"Mean:\", mean)\n",
    "print(\"Median:\",median)\n",
    "print(\"Standard Deviation:\", std_dev)\n",
    "print(\"Variance:\", variance)"
   ]
  },
  {
   "cell_type": "code",
   "execution_count": 39,
   "id": "08e05dd8",
   "metadata": {},
   "outputs": [
    {
     "name": "stdout",
     "output_type": "stream",
     "text": [
      "Orignal array:\n",
      "[[1 2 3]\n",
      " [4 5 6]\n",
      " [7 8 9]]\n",
      "Normalised Array:\n",
      "[[-1.54919334 -1.161895   -0.77459667]\n",
      " [-0.38729833  0.          0.38729833]\n",
      " [ 0.77459667  1.161895    1.54919334]]\n"
     ]
    }
   ],
   "source": [
    "# Create a Numpy array of shape (3,3) with values from 1 to 9\n",
    "array = np.arange(1,10).reshape(3,3)\n",
    "print(\"Orignal array:\")\n",
    "print(array)\n",
    "\n",
    "## Normalise the array\n",
    "mean = np.mean(array)\n",
    "std_dev = np.std(array)\n",
    "normalized_array = (array - mean) / std_dev\n",
    "\n",
    "print(\"Normalised Array:\")\n",
    "print(normalized_array)"
   ]
  },
  {
   "cell_type": "code",
   "execution_count": 40,
   "id": "8ce7d59f",
   "metadata": {},
   "outputs": [
    {
     "name": "stdout",
     "output_type": "stream",
     "text": [
      "Orignal Array:\n",
      "[[ 3  6 10]\n",
      " [ 7 10 10]\n",
      " [ 6  9  3]]\n",
      "1D array:\n",
      "[3 8 8]\n",
      "Resultant array:\n",
      "[[ 6 14 18]\n",
      " [10 18 18]\n",
      " [ 9 17 11]]\n"
     ]
    }
   ],
   "source": [
    "## Create a NumPy array of shape (3,3) filled with random integers \n",
    "array = np.random.randint(1,11,size = (3,3))\n",
    "row_array = np.random.randint(1,11, size = (3,))\n",
    "print(\"Orignal Array:\")\n",
    "print(array)\n",
    "print(\"1D array:\")\n",
    "print(row_array)\n",
    "\n",
    "# Add the 1D array to each row of the 2D array using broadcasting\n",
    "result = array + row_array\n",
    "print(\"Resultant array:\")\n",
    "print(result)"
   ]
  },
  {
   "cell_type": "code",
   "execution_count": 2,
   "id": "cbcdc515",
   "metadata": {},
   "outputs": [
    {
     "name": "stdout",
     "output_type": "stream",
     "text": [
      "Orignal array:\n",
      "[[ 9  5  2 10]\n",
      " [ 9 10  6  5]\n",
      " [ 2  6  6  6]\n",
      " [ 9  2 10  7]]\n",
      "1D Array:\n",
      "[ 3  5 10  9]\n",
      "Resulting Array:\n",
      "[[ 6  2 -1  7]\n",
      " [ 4  5  1  0]\n",
      " [-8 -4 -4 -4]\n",
      " [ 0 -7  1 -2]]\n"
     ]
    }
   ],
   "source": [
    "# Create a NumPy array of shape (4,4) filled with random integers \n",
    "import numpy as np\n",
    "\n",
    "array = np.random.randint(1,11, size =(4,4))\n",
    "column_array = np.random.randint(1,11,size=(4,))\n",
    "print(\"Orignal array:\")\n",
    "print(array)\n",
    "print(\"1D Array:\")\n",
    "print(column_array)\n",
    "\n",
    "# Subtract the 1D array from each column of the 2D array using broadcasting \n",
    "result = array - column_array[:, np.newaxis]\n",
    "print(\"Resulting Array:\")\n",
    "print(result)"
   ]
  },
  {
   "cell_type": "code",
   "execution_count": 6,
   "id": "5409346f",
   "metadata": {},
   "outputs": [
    {
     "name": "stdout",
     "output_type": "stream",
     "text": [
      "Orignal matrix:\n",
      "[[ 9 10  1]\n",
      " [ 2  5  8]\n",
      " [ 9  2  6]]\n",
      "Determinant: 685.0000000000002\n",
      "Inverse:\n",
      "[[ 0.02043796 -0.08467153  0.10948905]\n",
      " [ 0.08759124  0.06569343 -0.10218978]\n",
      " [-0.05985401  0.10510949  0.03649635]]\n",
      "Eigenvalues: [17.4355584+0.j          1.2822208+6.13542488j  1.2822208-6.13542488j]\n"
     ]
    }
   ],
   "source": [
    "# Create a NumPy array of shape (3,3) representing a matrix\n",
    "matrix = np.random.randint(1,11, size=(3,3))\n",
    "print(\"Orignal matrix:\")\n",
    "print(matrix)\n",
    "\n",
    "#Compute the determinant\n",
    "Determinant = np.linalg.det(matrix)\n",
    "print(\"Determinant:\", Determinant) # det_manual = a * (e * i - f * h) - b * (d * i - f * g) + c * (d * h - e * g)\n",
    "\n",
    "# Compute the inverse \n",
    "inverse = np.linalg.inv(matrix)\n",
    "print(\"Inverse:\")\n",
    "print(inverse)\n",
    "\n",
    "# Compute the eigenvalues \n",
    "eigenvalues = np.linalg.eigvals(matrix)\n",
    "print(\"Eigenvalues:\", eigenvalues)\n"
   ]
  },
  {
   "cell_type": "code",
   "execution_count": 7,
   "id": "57465cfb",
   "metadata": {},
   "outputs": [
    {
     "name": "stdout",
     "output_type": "stream",
     "text": [
      "Array1:\n",
      "[[ 4 10  1]\n",
      " [ 1  7  6]]\n",
      "Array2:\n",
      "[[7 9]\n",
      " [5 6]\n",
      " [9 5]]\n",
      "Matrix multiplication results:\n",
      "[[ 87 101]\n",
      " [ 96  81]]\n"
     ]
    }
   ],
   "source": [
    "# Create two Numpy arrays of shape (2,3) and (3,2)\n",
    "array1 = np.random.randint(1,11, size =(2,3))\n",
    "array2 = np.random.randint(1,11, size =(3,2))\n",
    "print(\"Array1:\")\n",
    "print(array1)\n",
    "print(\"Array2:\")\n",
    "print(array2)\n",
    "\n",
    "# Perform matrix multiplication \n",
    "result = np.dot(array1, array2)\n",
    "print(\"Matrix multiplication results:\")\n",
    "print(result)"
   ]
  },
  {
   "cell_type": "code",
   "execution_count": 9,
   "id": "285bf363",
   "metadata": {},
   "outputs": [
    {
     "name": "stdout",
     "output_type": "stream",
     "text": [
      "Orignal array:\n",
      "[[1 2 3]\n",
      " [4 5 6]\n",
      " [7 8 9]]\n",
      "[[1 2 3 4 5 6 7 8 9]]\n",
      "Reshaped array(9,1):\n",
      "[[1]\n",
      " [2]\n",
      " [3]\n",
      " [4]\n",
      " [5]\n",
      " [6]\n",
      " [7]\n",
      " [8]\n",
      " [9]]\n"
     ]
    }
   ],
   "source": [
    "# Create a Nunpy array of shape (3,3) with values from 1 to 9\n",
    "array = np.arange(1,10).reshape((3,3))\n",
    "print(\"Orignal array:\")\n",
    "print(array)\n",
    "\n",
    "# Reshape the array to shape (1,9)\n",
    "reshaped_array_1 = array.reshape((1,9))\n",
    "print(reshaped_array_1)\n",
    "\n",
    "# Reshape the array to shape (9,1)\n",
    "reshaped_array_2 = reshaped_array_1.reshape((9,1))\n",
    "print(\"Reshaped array(9,1):\")\n",
    "print(reshaped_array_2)"
   ]
  },
  {
   "cell_type": "code",
   "execution_count": 4,
   "id": "be7b0f40",
   "metadata": {},
   "outputs": [
    {
     "name": "stdout",
     "output_type": "stream",
     "text": [
      "Orignal Array\n",
      "[[ 7 19  5 11 20]\n",
      " [12 13 11 12  2]\n",
      " [19  1 13 11  4]\n",
      " [ 3 19 17 10  7]\n",
      " [12  2 16 11  1]]\n",
      "Flattened_Array\n",
      "[ 7 19  5 11 20 12 13 11 12  2 19  1 13 11  4  3 19 17 10  7 12  2 16 11\n",
      "  1]\n",
      "Reshaped array\n",
      "[[ 7 19  5 11 20]\n",
      " [12 13 11 12  2]\n",
      " [19  1 13 11  4]\n",
      " [ 3 19 17 10  7]\n",
      " [12  2 16 11  1]]\n"
     ]
    }
   ],
   "source": [
    "# Create a Numpy array of shape(5,5) filled with random integers \n",
    "import numpy as np\n",
    "array = np.random.randint(1,21, size = (5,5))\n",
    "print(\"Orignal Array\")\n",
    "print(array)\n",
    "\n",
    "#Flatten the array\n",
    "flattenned_array = array.flatten()\n",
    "print(\"Flattened_Array\")\n",
    "print(flattenned_array)\n",
    "\n",
    "# Reshape the array back to (5,5)\n",
    "Reshaped_Array = flattenned_array.reshape(5,5)\n",
    "print(\"Reshaped array\")\n",
    "print(Reshaped_Array)"
   ]
  },
  {
   "cell_type": "code",
   "execution_count": 7,
   "id": "5475de52",
   "metadata": {},
   "outputs": [
    {
     "name": "stdout",
     "output_type": "stream",
     "text": [
      "Orignal Array\n",
      "[[ 8  6 13  8  2]\n",
      " [ 1  6  1  9 17]\n",
      " [20 11 12  3  2]\n",
      " [ 1 15  2  2 15]\n",
      " [ 2 20  8  7 19]]\n",
      "Corner Elements\n",
      "[ 8  2  2 19]\n"
     ]
    }
   ],
   "source": [
    "# Create a NumPy array of shape (5,5) filled with random intergers \n",
    "\n",
    "array = np.random.randint(1,21, size=(5,5))\n",
    "print(\"Orignal Array\")\n",
    "print(array)\n",
    "\n",
    "# Use fancy indexing to extract the elements at the corners pf the array \n",
    "\n",
    "Corners = array[[0, 0, -1, -1], [0, -1, 0, -1]]\n",
    "print(\"Corner Elements\")\n",
    "print(Corners)\n"
   ]
  },
  {
   "cell_type": "code",
   "execution_count": 8,
   "id": "b5bd09a0",
   "metadata": {},
   "outputs": [
    {
     "name": "stdout",
     "output_type": "stream",
     "text": [
      "Orignal Array\n",
      "[[ 8 10  3 10]\n",
      " [20  3  9 14]\n",
      " [ 4 18  4 14]\n",
      " [11  8  4  5]]\n",
      "Modified Array:\n",
      "[[ 8 10  3 10]\n",
      " [10  3  9 10]\n",
      " [ 4 10  4 10]\n",
      " [10  8  4  5]]\n"
     ]
    }
   ],
   "source": [
    "# Create a Numpy array of shape (4,4) filled with random integers \n",
    "array = np.random.randint(1,21, size = (4,4))\n",
    "print(\"Orignal Array\")\n",
    "print(array)\n",
    "\n",
    "# Use boolean indexing to set all elements greater than 10 to 10 \n",
    "array[array > 10] = 10\n",
    "print(\"Modified Array:\")\n",
    "print(array)"
   ]
  },
  {
   "cell_type": "code",
   "execution_count": 11,
   "id": "38a50bd7",
   "metadata": {},
   "outputs": [
    {
     "name": "stdout",
     "output_type": "stream",
     "text": [
      "Orignal array:\n",
      "[('Shreyash', 25, 55.5) ('Jaspreet', 30, 85.3) ('Robin', 20, 65.2)]\n",
      "Sorted array by age:\n",
      "[('Robin', 20, 65.2) ('Shreyash', 25, 55.5) ('Jaspreet', 30, 85.3)]\n"
     ]
    }
   ],
   "source": [
    "# Create a structured array with fields 'Name', 'Age', and 'Weight'\n",
    "data_type = [('Name', 'U10'), ('Age', 'i4'), ('Weight', 'f4')]\n",
    "data = np.array([('Shreyash', 25, 55.5), ('Jaspreet', 30, 85.3), ('Robin', 20, 65.2)], dtype= data_type)\n",
    "print(\"Orignal array:\")\n",
    "print(data)\n",
    "\n",
    "# Sort the array by age \n",
    "sorted_data = np.sort(data, order = 'Age')\n",
    "print(\"Sorted array by age:\")\n",
    "print(sorted_data)"
   ]
  },
  {
   "cell_type": "code",
   "execution_count": null,
   "id": "8e83ada0",
   "metadata": {},
   "outputs": [
    {
     "name": "stdout",
     "output_type": "stream",
     "text": [
      "Orignal Array:\n",
      "[(1, 2) (3, 4) (5, 6)]\n",
      "Euclidean distances:\n",
      "[[2.         2.82842712 4.47213595]\n",
      " [4.47213595 4.         4.47213595]\n",
      " [7.21110255 6.32455532 6.        ]]\n"
     ]
    }
   ],
   "source": [
    "# Create a structured array with fields 'x' and 'y' \n",
    "data_type = [('x','i4'),('y','i4')]\n",
    "data = np.array([(1,2),(3,4),(5,6)], dtype=data_type)\n",
    "print(\"Orignal Array:\")\n",
    "print(data)\n",
    "\n",
    "# Compute the euclidean distance between each pair of points\n",
    "distances = np.sqrt((data['x'][:, np.newaxis] - data['x'])**2 + (data['y'][:, np.newaxis])**2)\n",
    "print(\"Euclidean distances:\")\n",
    "print(distances)\n",
    "\n",
    "# What is broadcasting?\tA way to do math on arrays of different shapes automatically.\n",
    "# Can we subtract without reshaping?\t❌ No, not if you want pairwise differences (you’d only get 1D results).\n",
    "# Why reshape with [:, np.newaxis]?\tTo convert 1D array into a column vector, enabling 2D subtraction.\n",
    "\n",
    "# Euclidean Distance = Squareroot((Xi - Xj)**2 + (Yi - Yj)**2)"
   ]
  },
  {
   "cell_type": "code",
   "execution_count": 15,
   "id": "362af378",
   "metadata": {},
   "outputs": [
    {
     "name": "stdout",
     "output_type": "stream",
     "text": [
      "Orignal Array:\n",
      "[[ 8  4 10  7]\n",
      " [18 13 14  9]\n",
      " [11 11 19 12]\n",
      " [ 1 10 13 17]]\n",
      "Masked Array:\n",
      "[[8 4 10 7]\n",
      " [-- -- -- 9]\n",
      " [-- -- -- --]\n",
      " [1 10 -- --]]\n",
      "Sum of unmasked elements: 49\n"
     ]
    }
   ],
   "source": [
    "import numpy.ma as ma\n",
    "\n",
    "# Create a masked array of shape (4,4) with random integers \n",
    "array = np.random.randint(1,21, size=(4,4))\n",
    "masked_array = ma.masked_greater(array, 10)\n",
    "print(\"Orignal Array:\")\n",
    "print(array)\n",
    "print(\"Masked Array:\")\n",
    "print(masked_array)\n",
    "\n",
    "# Compute the sum of the unmasked elements\n",
    "sum_unmasked = masked_array.sum()\n",
    "print(\"Sum of unmasked elements:\", sum_unmasked)"
   ]
  },
  {
   "cell_type": "code",
   "execution_count": 17,
   "id": "1c4064c8",
   "metadata": {},
   "outputs": [
    {
     "name": "stdout",
     "output_type": "stream",
     "text": [
      "Orignal Array:\n",
      "[[15 11  1]\n",
      " [10  4 20]\n",
      " [14 12 17]]\n",
      "Masked Array:\n",
      "[[-- 11 1]\n",
      " [10 -- 20]\n",
      " [14 12 --]]\n",
      "Modified masked array:\n",
      "[[11 11  1]\n",
      " [10 11 20]\n",
      " [14 12 11]]\n"
     ]
    }
   ],
   "source": [
    "# Create a masked array of shape (3,3) with random integers\n",
    "array = np.random.randint(1,21, size=(3,3))\n",
    "masked_array = ma.masked_array(array, mask = np.eye(3, dtype=bool))\n",
    "print(\"Orignal Array:\")\n",
    "print(array)\n",
    "print(\"Masked Array:\")\n",
    "print(masked_array)\n",
    "\n",
    "# Replace the masked elements with the mean of the unmasked elements \n",
    "\n",
    "mean_unmasked = masked_array.mean()\n",
    "masked_array = masked_array.filled(mean_unmasked)\n",
    "print(\"Modified masked array:\")\n",
    "print(masked_array)\n"
   ]
  },
  {
   "cell_type": "code",
   "execution_count": null,
   "id": "832a9aec",
   "metadata": {},
   "outputs": [],
   "source": []
  }
 ],
 "metadata": {
  "kernelspec": {
   "display_name": "Python 3",
   "language": "python",
   "name": "python3"
  },
  "language_info": {
   "codemirror_mode": {
    "name": "ipython",
    "version": 3
   },
   "file_extension": ".py",
   "mimetype": "text/x-python",
   "name": "python",
   "nbconvert_exporter": "python",
   "pygments_lexer": "ipython3",
   "version": "3.12.0"
  }
 },
 "nbformat": 4,
 "nbformat_minor": 5
}
