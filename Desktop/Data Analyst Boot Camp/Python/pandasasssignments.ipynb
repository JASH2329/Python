{
 "cells": [
  {
   "cell_type": "markdown",
   "metadata": {},
   "source": [
    "# Module: Pandas Assignments\n",
    "## Lesson: Pandas\n",
    "### Assignment 1: DataFrame Creation and Indexing\n",
    "\n",
    "1. Create a Pandas DataFrame with 4 columns and 6 rows filled with random integers. Set the index to be the first column.\n",
    "2. Create a Pandas DataFrame with columns 'A', 'B', 'C' and index 'X', 'Y', 'Z'. Fill the DataFrame with random integers and access the element at row 'Y' and column 'B'.\n",
    "\n",
    "### Assignment 2: DataFrame Operations\n",
    "\n",
    "1. Create a Pandas DataFrame with 3 columns and 5 rows filled with random integers. Add a new column that is the product of the first two columns.\n",
    "2. Create a Pandas DataFrame with 3 columns and 4 rows filled with random integers. Compute the row-wise and column-wise sum.\n",
    "\n",
    "### Assignment 3: Data Cleaning\n",
    "\n",
    "1. Create a Pandas DataFrame with 3 columns and 5 rows filled with random integers. Introduce some NaN values. Fill the NaN values with the mean of the respective columns.\n",
    "2. Create a Pandas DataFrame with 4 columns and 6 rows filled with random integers. Introduce some NaN values. Drop the rows with any NaN values.\n",
    "\n",
    "### Assignment 4: Data Aggregation\n",
    "\n",
    "1. Create a Pandas DataFrame with 2 columns: 'Category' and 'Value'. Fill the 'Category' column with random categories ('A', 'B', 'C') and the 'Value' column with random integers. Group the DataFrame by 'Category' and compute the sum and mean of 'Value' for each category.\n",
    "2. Create a Pandas DataFrame with 3 columns: 'Product', 'Category', and 'Sales'. Fill the DataFrame with random data. Group the DataFrame by 'Category' and compute the total sales for each category.\n",
    "\n",
    "### Assignment 5: Merging DataFrames\n",
    "\n",
    "1. Create two Pandas DataFrames with a common column. Merge the DataFrames using the common column.\n",
    "2. Create two Pandas DataFrames with different columns. Concatenate the DataFrames along the rows and along the columns.\n",
    "\n",
    "### Assignment 6: Time Series Analysis\n",
    "\n",
    "1. Create a Pandas DataFrame with a datetime index and one column filled with random integers. Resample the DataFrame to compute the monthly mean of the values.\n",
    "2. Create a Pandas DataFrame with a datetime index ranging from '2021-01-01' to '2021-12-31' and one column filled with random integers. Compute the rolling mean with a window of 7 days.\n",
    "\n",
    "### Assignment 7: MultiIndex DataFrame\n",
    "\n",
    "1. Create a Pandas DataFrame with a MultiIndex (hierarchical index). Perform some basic indexing and slicing operations on the MultiIndex DataFrame.\n",
    "2. Create a Pandas DataFrame with MultiIndex consisting of 'Category' and 'SubCategory'. Fill the DataFrame with random data and compute the sum of values for each 'Category' and 'SubCategory'.\n",
    "\n",
    "### Assignment 8: Pivot Tables\n",
    "\n",
    "1. Create a Pandas DataFrame with columns 'Date', 'Category', and 'Value'. Create a pivot table to compute the sum of 'Value' for each 'Category' by 'Date'.\n",
    "2. Create a Pandas DataFrame with columns 'Year', 'Quarter', and 'Revenue'. Create a pivot table to compute the mean 'Revenue' for each 'Quarter' by 'Year'.\n",
    "\n",
    "### Assignment 9: Applying Functions\n",
    "\n",
    "1. Create a Pandas DataFrame with 3 columns and 5 rows filled with random integers. Apply a function that doubles the values of the DataFrame.\n",
    "2. Create a Pandas DataFrame with 3 columns and 6 rows filled with random integers. Apply a lambda function to create a new column that is the sum of the existing columns.\n",
    "\n",
    "### Assignment 10: Working with Text Data\n",
    "\n",
    "1. Create a Pandas Series with 5 random text strings. Convert all the strings to uppercase.\n",
    "2. Create a Pandas Series with 5 random text strings. Extract the first three characters of each string.\n"
   ]
  },
  {
   "cell_type": "code",
   "execution_count": 3,
   "metadata": {},
   "outputs": [
    {
     "name": "stdout",
     "output_type": "stream",
     "text": [
      "Orignal DataFrame:\n",
      "    A   B   C   D\n",
      "0  37  17  50  87\n",
      "1  59  69  64  50\n",
      "2  14  32   6   6\n",
      "3   7  85  48  65\n",
      "4  67  79  18  51\n",
      "5  28  48  22  62\n",
      "DataFrae with new index\n",
      "     B   C   D\n",
      "A             \n",
      "37  17  50  87\n",
      "59  69  64  50\n",
      "14  32   6   6\n",
      "7   85  48  65\n",
      "67  79  18  51\n",
      "28  48  22  62\n"
     ]
    }
   ],
   "source": [
    "import pandas as pd\n",
    "import numpy as np\n",
    "\n",
    "# Create a Pandas DataFrame with 4 columns and 6 rows filled with random integers\n",
    "\n",
    "df = pd.DataFrame(np.random.randint(1, 100, size=(6,4)), columns=['A','B', 'C', 'D'])\n",
    "print(\"Orignal DataFrame:\")\n",
    "print(df)\n",
    "\n",
    "# Set the index to be the first column\n",
    "\n",
    "df.set_index('A', inplace=True)\n",
    "print(\"DataFrae with new index\")\n",
    "print(df)"
   ]
  },
  {
   "cell_type": "code",
   "execution_count": 4,
   "id": "3ec14a96",
   "metadata": {},
   "outputs": [
    {
     "name": "stdout",
     "output_type": "stream",
     "text": [
      "Orignal DataFrame\n",
      "    A   B   C\n",
      "X  94  10  60\n",
      "Y  35  80  68\n",
      "Z  83  76  81\n",
      "80\n"
     ]
    }
   ],
   "source": [
    "# Create a pandas Dataframe with sepcified column and index\n",
    "df = pd.DataFrame(np.random.randint(1,100, size = (3,3)), columns= ['A','B','C'], index=['X','Y','Z'])\n",
    "print(\"Orignal DataFrame\")\n",
    "print(df)\n",
    "\n",
    "# Access the element at row 'Y' and comlumn 'B'\n",
    "element = df.at['Y', 'B']\n",
    "print(element)"
   ]
  },
  {
   "cell_type": "code",
   "execution_count": 7,
   "id": "21e53cf4",
   "metadata": {},
   "outputs": [
    {
     "name": "stdout",
     "output_type": "stream",
     "text": [
      "Orignal Dataframe\n",
      "    A   B   C\n",
      "0  35  25   6\n",
      "1   4  24  82\n",
      "2  89  22  39\n",
      "3  21  97  35\n",
      "4  96  61  99\n",
      "DataFrame with new column:\n",
      "    A   B   C     D\n",
      "0  35  25   6   875\n",
      "1   4  24  82    96\n",
      "2  89  22  39  1958\n",
      "3  21  97  35  2037\n",
      "4  96  61  99  5856\n"
     ]
    }
   ],
   "source": [
    "# Create a panadas Dataframe with 3 column and 5 rows filled with random integers \n",
    "\n",
    "df = pd.DataFrame(np.random.randint(1,100, size=(5,3)), columns=['A','B','C'])\n",
    "print(\"Orignal Dataframe\")\n",
    "print(df)\n",
    "\n",
    "# Add a new column that is the product of the first two columns\n",
    "df['D'] = df['A'] * df['B']\n",
    "print(\"DataFrame with new column:\")\n",
    "print(df)"
   ]
  },
  {
   "cell_type": "code",
   "execution_count": 12,
   "id": "28debb5b",
   "metadata": {},
   "outputs": [
    {
     "name": "stdout",
     "output_type": "stream",
     "text": [
      "    A   B   C\n",
      "0  30  96  45\n",
      "1  29  41  57\n",
      "2  40  33   3\n",
      "3  90  62  45\n",
      "Row wise sum:\n",
      "0    171\n",
      "1    127\n",
      "2     76\n",
      "3    197\n",
      "dtype: int64\n",
      "Column-wise sum:\n",
      "A    189\n",
      "B    232\n",
      "C    150\n",
      "dtype: int64\n"
     ]
    }
   ],
   "source": [
    "# Create a pandas DataFrame with 3 columns and 4 rows filled with column random integers\n",
    "df = pd.DataFrame(np.random.randint(1,100, size=(4,3)), columns = ['A','B','C'])\n",
    "print(df)\n",
    "\n",
    "# Compute the row-wise and column-wise sum\n",
    "row_sum = df.sum(axis=1)\n",
    "column_sum = df.sum(axis=0)\n",
    "\n",
    "print(\"Row wise sum:\")\n",
    "print(row_sum)\n",
    "print(\"Column-wise sum:\")\n",
    "print(column_sum)"
   ]
  },
  {
   "cell_type": "code",
   "execution_count": null,
   "id": "fda2c8bc",
   "metadata": {},
   "outputs": [
    {
     "name": "stdout",
     "output_type": "stream",
     "text": [
      "Orignal DataFrame:\n",
      "    A   B   C\n",
      "0  94  88  76\n",
      "1  48  84  28\n",
      "2  40  14  72\n",
      "3  91  95  15\n",
      "4  79  71   8\n",
      "DataFrame with NaN Values:\n",
      "      A     B     C\n",
      "0  94.0   NaN  76.0\n",
      "1  48.0  84.0  28.0\n",
      "2  40.0  14.0   NaN\n",
      "3  91.0  95.0  15.0\n",
      "4   NaN  71.0   8.0\n",
      "DataFrane with NaN values filled\n",
      "       A     B      C\n",
      "0  94.00  66.0  76.00\n",
      "1  48.00  84.0  28.00\n",
      "2  40.00  14.0  31.75\n",
      "3  91.00  95.0  15.00\n",
      "4  68.25  71.0   8.00\n"
     ]
    }
   ],
   "source": [
    "# Create a Pandas DataFrame with 3 columns and 5 rows filled with random integers \n",
    "import numpy as np\n",
    "\n",
    "df = pd.DataFrame(np.random.randint(1,100, size = (5,3)), columns=['A','B','C'])\n",
    "print(\"Orignal DataFrame:\")\n",
    "print(df)\n",
    "\n",
    "# Introduce some NAN Values \n",
    "df.iloc[0,1] = np.nan\n",
    "df.iloc[2,2] = np.nan\n",
    "df.iloc[4,0] = np.nan\n",
    "print(\"DataFrame with NaN Values:\")\n",
    "print(df)\n",
    "\n",
    "# Fill the NaN values with the mean of the respective values \n",
    "df.fillna(df.mean(), inplace=True)\n",
    "print(\"DataFrane with NaN values filled\")\n",
    "print(df)\n",
    "\n",
    "## df.T.fillna(df.T.mean()).T -- This transpose is used to fill NaN values in row basis\n",
    "## .T at the end will change the matrix back after NaN is swapped "
   ]
  },
  {
   "cell_type": "code",
   "execution_count": null,
   "id": "26091b25",
   "metadata": {},
   "outputs": [
    {
     "name": "stdout",
     "output_type": "stream",
     "text": [
      "Orignal DataFrame:\n",
      "    A   B   C   D\n",
      "0  35  70  79  77\n",
      "1  41   4  59   4\n",
      "2  11  30  83   2\n",
      "3  83  94  16  39\n",
      "4  79  11  82   4\n",
      "5  61  57  89  69\n",
      "DataFrame with NaN values:\n",
      "      A   B     C   D\n",
      "0  35.0  70  79.0  77\n",
      "1  41.0   4   NaN   4\n",
      "2  11.0  30   NaN   2\n",
      "3   NaN  94  16.0  39\n",
      "4  79.0  11  82.0   4\n",
      "5  61.0  57  89.0  69\n",
      "DataFrame with NaN values dropped\n",
      "      A   B     C   D\n",
      "0  35.0  70  79.0  77\n",
      "4  79.0  11  82.0   4\n",
      "5  61.0  57  89.0  69\n"
     ]
    }
   ],
   "source": [
    "# Create a Panadas Dataframe with 4 columns and 6 rows filled with random integers \n",
    "\n",
    "df = pd.DataFrame(np.random.randint(1,100, size = (6,4)), columns=['A','B','C','D'])\n",
    "print(\"Orignal DataFrame:\")\n",
    "print(df)\n",
    "\n",
    "# Introduce some NaN Values\n",
    "df.iloc[1,2]=np.nan\n",
    "df.iloc[2,2]=np.nan\n",
    "df.iloc[3,0]=np.nan\n",
    "print(\"DataFrame with NaN values:\")\n",
    "print(df)\n",
    "\n",
    "## Drop the rows with any NaN values \n",
    "df.dropna(inplace=True) ## na = Not Available\n",
    "print(\"DataFrame with NaN values dropped\")\n",
    "print(df)"
   ]
  },
  {
   "cell_type": "code",
   "execution_count": 25,
   "id": "270bade4",
   "metadata": {},
   "outputs": [
    {
     "name": "stdout",
     "output_type": "stream",
     "text": [
      "Orignal DataFrame:\n",
      "  Category  Value\n",
      "0        A     89\n",
      "1        C     44\n",
      "2        C      4\n",
      "3        C     17\n",
      "4        B     36\n",
      "5        C     56\n",
      "6        A      3\n",
      "7        A      2\n",
      "8        A     95\n",
      "9        A     61\n",
      "Grouped DataFrame\n",
      "          sum   mean\n",
      "Category            \n",
      "A         250  50.00\n",
      "B          36  36.00\n",
      "C         121  30.25\n"
     ]
    }
   ],
   "source": [
    "# Create a pandas DataFrame with 2 column: 'Category' and 'Value'\n",
    "df = pd.DataFrame({'Category': np.random.choice(['A','B','C'], size=10), 'Value':np.random.randint(1,100,size=10)})\n",
    "print(\"Orignal DataFrame:\")\n",
    "print(df)\n",
    "\n",
    "## Group the DataFrame by 'Category' and compute the sum and mean of 'Value' for each category\n",
    "Grouped = df.groupby('Category')['Value'].agg(['sum','mean'])\n",
    "print(\"Grouped DataFrame\")\n",
    "print(Grouped)\n"
   ]
  },
  {
   "cell_type": "code",
   "execution_count": 26,
   "id": "6724b9f5",
   "metadata": {},
   "outputs": [
    {
     "name": "stdout",
     "output_type": "stream",
     "text": [
      "Orignal DataFrame:\n",
      "  Product Category  Sales\n",
      "0   Prod2        B     31\n",
      "1   Prod3        B     30\n",
      "2   Prod3        C     35\n",
      "3   Prod1        B     47\n",
      "4   Prod2        B     23\n",
      "5   Prod2        A     75\n",
      "6   Prod2        B     67\n",
      "7   Prod2        C     17\n",
      "8   Prod3        C     24\n",
      "9   Prod1        B     81\n",
      "Grouped DataFrame:\n",
      "Category\n",
      "A     75\n",
      "B    279\n",
      "C     76\n",
      "Name: Sales, dtype: int64\n"
     ]
    }
   ],
   "source": [
    "## Create a pandas DataFrame with 3 column: 'Product', 'Category', and 'Sales'\n",
    "df = pd.DataFrame({'Product': np.random.choice(['Prod1', 'Prod2', 'Prod3'], size = 10), 'Category':np.random.choice(['A','B','C'], size=10), 'Sales': np.random.randint(1,100,size=10)})\n",
    "print(\"Orignal DataFrame:\")\n",
    "print(df)\n",
    "\n",
    "# Group the DataFrame by 'Category' and compute the total sales for each category \n",
    "grouped = df.groupby('Category')['Sales'].sum()\n",
    "print(\"Grouped DataFrame:\")\n",
    "print(grouped)"
   ]
  },
  {
   "cell_type": "code",
   "execution_count": 27,
   "id": "a537fdb6",
   "metadata": {},
   "outputs": [
    {
     "name": "stdout",
     "output_type": "stream",
     "text": [
      "DataFrame 1:\n",
      "  Key  Value1\n",
      "0   A      17\n",
      "1   B      19\n",
      "2   C      87\n",
      "3   D      57\n",
      "DataFrame 2:\n",
      "  Key  Value2\n",
      "0   A      74\n",
      "1   B      79\n",
      "2   C      42\n",
      "3   E      27\n",
      "Merged DataFrame:\n",
      "  Key  Value1  Value2\n",
      "0   A      17      74\n",
      "1   B      19      79\n",
      "2   C      87      42\n"
     ]
    }
   ],
   "source": [
    "# Create two pandas DataFrame with a common column \n",
    "df1 = pd.DataFrame({'Key': ['A','B','C','D'], 'Value1': np.random.randint(1,100,size=4)})\n",
    "df2 = pd.DataFrame({'Key': ['A','B','C','E'], 'Value2': np.random.randint(1,100,size=4)})\n",
    "print(\"DataFrame 1:\")\n",
    "print(df1)\n",
    "print(\"DataFrame 2:\")\n",
    "print(df2)\n",
    "\n",
    "# Merge the DataFrames using the common column\n",
    "merged = pd.merge(df1,df2, on='Key')\n",
    "print(\"Merged DataFrame:\")\n",
    "print(merged)"
   ]
  },
  {
   "cell_type": "code",
   "execution_count": 29,
   "id": "6471317c",
   "metadata": {},
   "outputs": [
    {
     "name": "stdout",
     "output_type": "stream",
     "text": [
      "DataFrame 1:\n",
      "    A   B\n",
      "0  72  95\n",
      "1  41  71\n",
      "2  58  91\n",
      "DataFrame 2:\n",
      "    C   D\n",
      "0  53  99\n",
      "1   3  50\n",
      "2  52  80\n",
      "Concatenated DataFrame(Rows):\n",
      "      A     B     C     D\n",
      "0  72.0  95.0   NaN   NaN\n",
      "1  41.0  71.0   NaN   NaN\n",
      "2  58.0  91.0   NaN   NaN\n",
      "0   NaN   NaN  53.0  99.0\n",
      "1   NaN   NaN   3.0  50.0\n",
      "2   NaN   NaN  52.0  80.0\n",
      "Concatenated DataFrame(Column):\n",
      "    A   B   C   D\n",
      "0  72  95  53  99\n",
      "1  41  71   3  50\n",
      "2  58  91  52  80\n"
     ]
    }
   ],
   "source": [
    "## Create two pandas DataFrame with different columns \n",
    "df1 = pd.DataFrame({'A':np.random.randint(1,100, size=3), 'B':np.random.randint(1,100, size=3)})\n",
    "df2 = pd.DataFrame({'C':np.random.randint(1,100, size=3), 'D':np.random.randint(1,100, size=3)})\n",
    "print(\"DataFrame 1:\")\n",
    "print(df1)\n",
    "print(\"DataFrame 2:\")\n",
    "print(df2)\n",
    "\n",
    "# Concatenate the DataFrame along the rows \n",
    "concat_rows = pd.concat([df1,df2], axis=0)\n",
    "print(\"Concatenated DataFrame(Rows):\")\n",
    "print(concat_rows)\n",
    "\n",
    "# Concatenate the DataFrames along the columns \n",
    "concat_columns = pd.concat([df1,df2], axis=1)\n",
    "print(\"Concatenated DataFrame(Column):\")\n",
    "print(concat_columns)"
   ]
  },
  {
   "cell_type": "code",
   "execution_count": 33,
   "id": "d589bcfb",
   "metadata": {},
   "outputs": [
    {
     "name": "stdout",
     "output_type": "stream",
     "text": [
      "Orignal DataFrame:\n",
      "            data\n",
      "date            \n",
      "2025-01-01    45\n",
      "2025-01-02    64\n",
      "2025-01-03    22\n",
      "2025-01-04     6\n",
      "2025-01-05    37\n",
      "...          ...\n",
      "2025-12-27    62\n",
      "2025-12-28    81\n",
      "2025-12-29    55\n",
      "2025-12-30    29\n",
      "2025-12-31    61\n",
      "\n",
      "[365 rows x 1 columns]\n",
      "Monthly mean DataFrame:\n",
      "                 data\n",
      "date                 \n",
      "2025-01-31  37.096774\n",
      "2025-02-28  57.035714\n",
      "2025-03-31  56.000000\n",
      "2025-04-30  45.466667\n",
      "2025-05-31  60.419355\n",
      "2025-06-30  53.133333\n",
      "2025-07-31  47.903226\n",
      "2025-08-31  65.161290\n",
      "2025-09-30  47.000000\n",
      "2025-10-31  48.096774\n",
      "2025-11-30  43.200000\n",
      "2025-12-31  56.483871\n"
     ]
    },
    {
     "name": "stderr",
     "output_type": "stream",
     "text": [
      "/var/folders/ts/13z74zl15tn6vql6_v6g2dzm0000gn/T/ipykernel_19949/4237040232.py:10: FutureWarning: 'M' is deprecated and will be removed in a future version, please use 'ME' instead.\n",
      "  monthly_mean = df.resample('M').mean()\n"
     ]
    }
   ],
   "source": [
    "# Create a Pandas DataFrame with a determine index and one column filled with random integers\n",
    "date_rng = pd.date_range(start='2025-01-01', end='2025-12-31', freq='D')\n",
    "df = pd.DataFrame(data_rng, columns=['date'])\n",
    "df['data'] = np.random.randint(0,100,size=(len(date_rng)))\n",
    "df.set_index('date', inplace=True)\n",
    "print(\"Orignal DataFrame:\")\n",
    "print(df)\n",
    "\n",
    "# Resample the DataFrame to compute the monthly mean of the values \n",
    "monthly_mean = df.resample('M').mean()\n",
    "print(\"Monthly mean DataFrame:\")\n",
    "print(monthly_mean)\n"
   ]
  },
  {
   "cell_type": "code",
   "execution_count": 37,
   "id": "d2108caf",
   "metadata": {},
   "outputs": [
    {
     "name": "stdout",
     "output_type": "stream",
     "text": [
      "Orignal DataFrame:\n",
      "            data\n",
      "date            \n",
      "2021-01-01    71\n",
      "2021-01-02    41\n",
      "2021-01-03    34\n",
      "2021-01-04    83\n",
      "2021-01-05    72\n",
      "...          ...\n",
      "2021-12-27    58\n",
      "2021-12-28    30\n",
      "2021-12-29    75\n",
      "2021-12-30     5\n",
      "2021-12-31    77\n",
      "\n",
      "[365 rows x 1 columns]\n",
      "Rolling mean DataFrame:\n",
      "                 data\n",
      "date                 \n",
      "2021-01-01        NaN\n",
      "2021-01-02        NaN\n",
      "2021-01-03        NaN\n",
      "2021-01-04        NaN\n",
      "2021-01-05        NaN\n",
      "...               ...\n",
      "2021-12-27  67.857143\n",
      "2021-12-28  59.857143\n",
      "2021-12-29  59.428571\n",
      "2021-12-30  47.714286\n",
      "2021-12-31  46.714286\n",
      "\n",
      "[365 rows x 1 columns]\n"
     ]
    }
   ],
   "source": [
    "# Create a pandas DataFrame with a datetime index ranging from '2021-01-01' to '2021-12-31'\n",
    "date_rng = pd.date_range(start='2021-01-01', end='2021-12-31', freq='D')\n",
    "df = pd.DataFrame(date_rng, columns=['date'])\n",
    "df['data'] = np.random.randint(0,100, size=(len(date_rng)))\n",
    "df.set_index('date', inplace=True)\n",
    "print(\"Orignal DataFrame:\")\n",
    "print(df)\n",
    "\n",
    "# Compute the rolling mean with a window of 7 days \n",
    "rolling_mean = df.rolling(window=7).mean()\n",
    "print(\"Rolling mean DataFrame:\")\n",
    "print(rolling_mean)"
   ]
  },
  {
   "cell_type": "code",
   "execution_count": 40,
   "id": "8683bf56",
   "metadata": {},
   "outputs": [
    {
     "name": "stdout",
     "output_type": "stream",
     "text": [
      "MultiIndex DataFrame:\n",
      "                      Value1  Value2  Value3\n",
      "Category SubCategory                        \n",
      "A        One              68      98       4\n",
      "B        Two               2      50      98\n",
      "C        One              82      39      81\n",
      "D        Two              50      83      10\n",
      "Indexing at Category 'A':\n",
      "             Value1  Value2  Value3\n",
      "SubCategory                        \n",
      "One              68      98       4\n",
      "Slicing at category 'B' and SubCategory 'Two':\n",
      "Value1     2\n",
      "Value2    50\n",
      "Value3    98\n",
      "Name: (B, Two), dtype: int64\n"
     ]
    }
   ],
   "source": [
    "# Create a pandas DataFrame with a MultiIndex (hierarchical index)\n",
    "arrays =[['A','B','C','D'],['One','Two','One','Two']]\n",
    "index = pd.MultiIndex.from_arrays(arrays, names=('Category', 'SubCategory'))\n",
    "df = pd.DataFrame(np.random.randint(1,100,size=(4,3)), index=index, columns=['Value1', 'Value2', 'Value3'])\n",
    "print(\"MultiIndex DataFrame:\")\n",
    "print(df)\n",
    "\n",
    "# Basic indexing and slicing operations \n",
    "print(\"Indexing at Category 'A':\")\n",
    "print(df.loc['A'])\n",
    "\n",
    "print(\"Slicing at category 'B' and SubCategory 'Two':\")\n",
    "print(df.loc[('B', 'Two')])\n",
    "\n"
   ]
  },
  {
   "cell_type": "code",
   "execution_count": 43,
   "id": "27c10061",
   "metadata": {},
   "outputs": [
    {
     "name": "stdout",
     "output_type": "stream",
     "text": [
      "MultiIndex Dataframe:\n",
      "                      Value1  Value2  Value3\n",
      "Category SubCategory                        \n",
      "A        One              73      61      91\n",
      "         Two              36      47      83\n",
      "B        One              33      15       2\n",
      "         Two              98      64      10\n",
      "C        One              30      52      79\n",
      "         Two              90      35      46\n",
      "Sum of Values\n",
      "                      Value1  Value2  Value3\n",
      "Category SubCategory                        \n",
      "A        One              73      61      91\n",
      "         Two              36      47      83\n",
      "B        One              33      15       2\n",
      "         Two              98      64      10\n",
      "C        One              30      52      79\n",
      "         Two              90      35      46\n"
     ]
    }
   ],
   "source": [
    "# Create a pandas DataFrame with Multiindex consisting of 'Category' and 'SubCategory'\n",
    "arrays = [['A','A','B','B','C','C'], ['One', 'Two', 'One', 'Two', 'One', 'Two']]\n",
    "index = pd.MultiIndex.from_arrays(arrays, names=('Category', 'SubCategory'))\n",
    "df = pd.DataFrame(np.random.randint(1,100, size=(6,3)), index=index, columns=['Value1', 'Value2', 'Value3'])\n",
    "print(\"MultiIndex Dataframe:\")\n",
    "print(df)\n",
    "\n",
    "# Compute the sum of values for each 'Category' and 'SubCategory'\n",
    "sum_values = df.groupby(['Category','SubCategory']).sum()\n",
    "print(\"Sum of Values\")\n",
    "print(sum_values)\n"
   ]
  },
  {
   "cell_type": "code",
   "execution_count": 4,
   "id": "4d8e9b84",
   "metadata": {},
   "outputs": [
    {
     "name": "stdout",
     "output_type": "stream",
     "text": [
      "Orignal DataFrame\n",
      "         Date Category  Value\n",
      "0  2022-01-09        B     30\n",
      "1  2022-01-04        A     79\n",
      "2  2022-01-02        C     95\n",
      "3  2022-01-09        A     43\n",
      "4  2022-01-10        A     14\n",
      "5  2022-01-07        B     80\n",
      "6  2022-01-08        A     44\n",
      "7  2022-01-09        A     53\n",
      "8  2022-01-06        A     34\n",
      "9  2022-01-03        B     85\n",
      "10 2022-01-05        B     81\n",
      "11 2022-01-07        B     95\n",
      "12 2022-01-09        C     90\n",
      "13 2022-01-07        A     56\n",
      "14 2022-01-02        B     20\n",
      "15 2022-01-01        B     43\n",
      "16 2022-01-01        C      7\n",
      "17 2022-01-06        C     87\n",
      "18 2022-01-06        C     19\n",
      "19 2022-01-05        C      5\n",
      "Pivot Table:\n",
      "Category       A      B      C\n",
      "Date                          \n",
      "2022-01-01   NaN   43.0    7.0\n",
      "2022-01-02   NaN   20.0   95.0\n",
      "2022-01-03   NaN   85.0    NaN\n",
      "2022-01-04  79.0    NaN    NaN\n",
      "2022-01-05   NaN   81.0    5.0\n",
      "2022-01-06  34.0    NaN  106.0\n",
      "2022-01-07  56.0  175.0    NaN\n",
      "2022-01-08  44.0    NaN    NaN\n",
      "2022-01-09  96.0   30.0   90.0\n",
      "2022-01-10  14.0    NaN    NaN\n"
     ]
    }
   ],
   "source": [
    "# Create a pandas DataFrame with columns 'Date' , 'Category' , and Values\n",
    "import pandas as pd\n",
    "import numpy as np\n",
    "date_rng = pd.date_range(start='2022-01-01', end='2022-01-10', freq='D') # This is a function from the pandas library used to generate a sequence of dates.\n",
    "df = pd.DataFrame({'Date': np.random.choice(date_rng, size=20), 'Category':np.random.choice(['A', 'B', 'C'], size=20), 'Value': np.random.randint(1,100, size=20)})\n",
    "print(\"Orignal DataFrame\")\n",
    "print(df)\n",
    "\n",
    "# Create a pivot table to compute the sum of value for each category by date \n",
    "pivot_table = df.pivot_table(values='Value', index='Date', columns='Category', aggfunc='sum')\n",
    "print(\"Pivot Table:\")\n",
    "print(pivot_table)"
   ]
  },
  {
   "cell_type": "code",
   "execution_count": 6,
   "id": "52027b09",
   "metadata": {},
   "outputs": [
    {
     "name": "stdout",
     "output_type": "stream",
     "text": [
      "Orignal DataFrame:\n",
      "    Year Quarter  Revenue\n",
      "0   2022      Q1      898\n",
      "1   2022      Q4      482\n",
      "2   2021      Q2      835\n",
      "3   2020      Q4      402\n",
      "4   2021      Q3      338\n",
      "5   2022      Q3      970\n",
      "6   2021      Q1      116\n",
      "7   2021      Q2      549\n",
      "8   2020      Q1      144\n",
      "9   2022      Q3      510\n",
      "10  2020      Q4      721\n",
      "11  2021      Q2      226\n",
      "Pivot Table:\n",
      "Quarter     Q1          Q2     Q3     Q4\n",
      "Year                                    \n",
      "2020     144.0         NaN    NaN  561.5\n",
      "2021     116.0  536.666667  338.0    NaN\n",
      "2022     898.0         NaN  740.0  482.0\n"
     ]
    }
   ],
   "source": [
    "# Create a Pnadas DataFrame with columns 'Year', 'Quarter', and Revenue \n",
    "df = pd.DataFrame({'Year':np.random.choice([2020, 2021, 2022], size=12), 'Quarter': np.random.choice(['Q1','Q2','Q3','Q4'], size=12), 'Revenue': np.random.randint(1,1000, size=12)})\n",
    "print(\"Orignal DataFrame:\")\n",
    "print(df)\n",
    "\n",
    "# Create a pivot table to compute the mean 'Revenue' for each 'Quarter' by 'Year'\n",
    "pivot_table = df.pivot_table(values='Revenue', index='Year', columns='Quarter', aggfunc='mean')\n",
    "print(\"Pivot Table:\")\n",
    "print(pivot_table)\n"
   ]
  },
  {
   "cell_type": "code",
   "execution_count": 8,
   "id": "756ee76c",
   "metadata": {},
   "outputs": [
    {
     "name": "stdout",
     "output_type": "stream",
     "text": [
      "Orignal DataFrame\n",
      "    A   B   C\n",
      "0  47  48  30\n",
      "1  67  82  89\n",
      "2  15  75  79\n",
      "3  65  53  29\n",
      "4  73   7   4\n",
      "Doubled DataFrame\n",
      "     A    B    C\n",
      "0   94   96   60\n",
      "1  134  164  178\n",
      "2   30  150  158\n",
      "3  130  106   58\n",
      "4  146   14    8\n"
     ]
    },
    {
     "name": "stderr",
     "output_type": "stream",
     "text": [
      "/var/folders/ts/13z74zl15tn6vql6_v6g2dzm0000gn/T/ipykernel_3685/4127404635.py:7: FutureWarning: DataFrame.applymap has been deprecated. Use DataFrame.map instead.\n",
      "  df_doubled = df.applymap(lambda x:x*2)\n"
     ]
    }
   ],
   "source": [
    "# Create a pandas DataFrame with 3 columns and 5 rows filled with random integers\n",
    "df = pd.DataFrame(np.random.randint(1,100, size=(5,3)), columns=['A','B','C'])\n",
    "print(\"Orignal DataFrame\")\n",
    "print(df)\n",
    "\n",
    "# Apply a function that doubles the values of the DataFrame\n",
    "df_doubled = df.applymap(lambda x:x*2)\n",
    "print(\"Doubled DataFrame\")\n",
    "print(df_doubled)"
   ]
  },
  {
   "cell_type": "code",
   "execution_count": null,
   "id": "719c7a40",
   "metadata": {},
   "outputs": [
    {
     "name": "stdout",
     "output_type": "stream",
     "text": [
      "Orignal DataFrame\n",
      "    A   B   C\n",
      "0  31  22  77\n",
      "1  24  85  49\n",
      "2  33  73  95\n",
      "3  75   7  74\n",
      "4  76  74  71\n",
      "5  21  39  23\n",
      "DataFrame with sum column:\n",
      "    A   B   C  Sum\n",
      "0  31  22  77  130\n",
      "1  24  85  49  158\n",
      "2  33  73  95  201\n",
      "3  75   7  74  156\n",
      "4  76  74  71  221\n",
      "5  21  39  23   83\n"
     ]
    }
   ],
   "source": [
    "# Create a Pandas DataFrame with 3 columns and 6 rows filledwith random integers\n",
    "import pandas as pd\n",
    "import numpy as np\n",
    "df = pd.DataFrame(np.random.randint(1,100, size=(6,3)), columns=['A','B','C'])\n",
    "print(\"Orignal DataFrame\")\n",
    "print(df)\n",
    "\n",
    "# Apply lambda function to create a new column that is the sum of the existing columns \n",
    "df['Sum'] = df.apply(lambda column: column.sum(), axis=1)\n",
    "print(\"DataFrame with sum column:\")\n",
    "print(df)\n",
    "\n",
    "# Rows (axis=0) go vertically (top to bottom)\n",
    "\n",
    "# Columns (axis=1) go horizontally (left to right)"
   ]
  },
  {
   "cell_type": "code",
   "execution_count": 7,
   "id": "7cab29f0",
   "metadata": {},
   "outputs": [
    {
     "name": "stdout",
     "output_type": "stream",
     "text": [
      "Orignal Series:\n",
      "0      Apple\n",
      "1     Banana\n",
      "2     Cherry\n",
      "3    Avacado\n",
      "dtype: object\n",
      "Uppercase Series:\n",
      "0      APPLE\n",
      "1     BANANA\n",
      "2     CHERRY\n",
      "3    AVACADO\n",
      "dtype: object\n"
     ]
    }
   ],
   "source": [
    "# Create a pandas series with 5 random text strings \n",
    "text_data = pd.Series(['Apple','Banana','Cherry','Avacado'])\n",
    "print(\"Orignal Series:\")\n",
    "print(text_data)\n",
    "\n",
    "# Convert all the strings to uppercase\n",
    "uppercase_data = text_data.str.upper()\n",
    "print(\"Uppercase Series:\")\n",
    "print(uppercase_data)"
   ]
  },
  {
   "cell_type": "code",
   "execution_count": 9,
   "id": "b025e840",
   "metadata": {},
   "outputs": [
    {
     "name": "stdout",
     "output_type": "stream",
     "text": [
      "Orignal Series:\n",
      "0     Apple\n",
      "1    Banana\n",
      "2    Cherry\n",
      "3      Date\n",
      "dtype: object\n",
      "First three characters\n",
      "0    App\n",
      "1    Ban\n",
      "2    Che\n",
      "3    Dat\n",
      "dtype: object\n"
     ]
    }
   ],
   "source": [
    "# Create a Pandas series with 5 random text strings \n",
    "text_data = pd.Series(['Apple', 'Banana', 'Cherry', 'Date'])\n",
    "print(\"Orignal Series:\")\n",
    "print(text_data)\n",
    "\n",
    "# Extract the first three characters of the each string \n",
    "first_three_char = text_data.str[:3]\n",
    "print(\"First three characters\")\n",
    "print(first_three_char)"
   ]
  },
  {
   "cell_type": "code",
   "execution_count": null,
   "id": "fb98b31d",
   "metadata": {},
   "outputs": [],
   "source": []
  }
 ],
 "metadata": {
  "kernelspec": {
   "display_name": "Python 3",
   "language": "python",
   "name": "python3"
  },
  "language_info": {
   "codemirror_mode": {
    "name": "ipython",
    "version": 3
   },
   "file_extension": ".py",
   "mimetype": "text/x-python",
   "name": "python",
   "nbconvert_exporter": "python",
   "pygments_lexer": "ipython3",
   "version": "3.12.0"
  }
 },
 "nbformat": 4,
 "nbformat_minor": 5
}
