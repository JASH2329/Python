{
 "cells": [
  {
   "cell_type": "code",
   "execution_count": 4,
   "metadata": {},
   "outputs": [
    {
     "name": "stdout",
     "output_type": "stream",
     "text": [
      "Current working directory is /Users/shreyashkale/Desktop/Data Analyst Boot Camp/Python\n"
     ]
    }
   ],
   "source": [
    "#### Using the os module\n",
    "\n",
    "import os\n",
    "cwd = os.getcwd()\n",
    "print(f\"Current working directory is {cwd}\")"
   ]
  },
  {
   "cell_type": "code",
   "execution_count": 5,
   "metadata": {},
   "outputs": [
    {
     "name": "stdout",
     "output_type": "stream",
     "text": [
      "Direcroey 'Practice' created\n"
     ]
    }
   ],
   "source": [
    "## create a new directory\n",
    "\n",
    "new_directory=\"Practice\"\n",
    "os.mkdir(new_directory)\n",
    "print(f\"Direcroey '{new_directory}' created\")\n"
   ]
  },
  {
   "cell_type": "code",
   "execution_count": 6,
   "metadata": {},
   "outputs": [
    {
     "name": "stdout",
     "output_type": "stream",
     "text": [
      "['Hello.py', 'Dic_Assn.ipynb', 'Import.ipynb', 'destination.txt', 'FileOperations.ipynb', '.DS_Store', 'example.csv', 'tuple_assignment.ipynb', '1.3-operators.ipynb', 'assignment_question.ipynb', 'Practice.txt', 'sets_assignment.ipynb', '1.1-Variables.ipynb', 'FilePath.ipynb', 'source.txt', 'FunctionAssignment.ipynb', '1.0-basic.ipynb', 'requirement.txt', 'example.bin', 'example.txt', 'StandardLib.ipynb', 'venv', 'assignments.ipynb', 'Practice', 'Package']\n"
     ]
    }
   ],
   "source": [
    "## Listing files and directories \n",
    "\n",
    "items=os.listdir('.')\n",
    "print(items)"
   ]
  },
  {
   "cell_type": "code",
   "execution_count": 8,
   "metadata": {},
   "outputs": [
    {
     "name": "stdout",
     "output_type": "stream",
     "text": [
      "/Users/shreyashkale/Desktop/Data Analyst Boot Camp/Python/folder/file.txt\n"
     ]
    }
   ],
   "source": [
    "### Joining Paths\n",
    "\n",
    "dir_name=\"folder\"\n",
    "file_name=\"file.txt\" \n",
    "full_path = os.path.join(os.getcwd(),dir_name,file_name)\n",
    "print(full_path)"
   ]
  },
  {
   "cell_type": "code",
   "execution_count": 9,
   "metadata": {},
   "outputs": [
    {
     "name": "stdout",
     "output_type": "stream",
     "text": [
      "The path 'example.txt exist\n"
     ]
    }
   ],
   "source": [
    "## To check if the path exist\n",
    "\n",
    "path = 'example.txt'\n",
    "if os.path.exists(path):\n",
    "    print(f\"The path '{path} exist\")\n",
    "else:\n",
    "    print(f\"The path '{path}' does not exist\")"
   ]
  },
  {
   "cell_type": "code",
   "execution_count": 10,
   "metadata": {},
   "outputs": [
    {
     "name": "stdout",
     "output_type": "stream",
     "text": [
      "The path 'example.txt' is a file\n"
     ]
    }
   ],
   "source": [
    "# Checking if a path is a file or directory \n",
    "\n",
    "import os\n",
    "\n",
    "path = 'example.txt'\n",
    "if os.path.isfile(path):\n",
    "    print(f\"The path '{path}' is a file\")\n",
    "elif os.path.isdir(path):\n",
    "    print(f\"The path '{path}' is a directory\")\n",
    "else:\n",
    "    print(f\"The path '{path}' is neither a file nor a directory\")"
   ]
  },
  {
   "cell_type": "code",
   "execution_count": 11,
   "metadata": {},
   "outputs": [
    {
     "name": "stdout",
     "output_type": "stream",
     "text": [
      "/Users/shreyashkale/Desktop/Data Analyst Boot Camp/Python/example.txt\n"
     ]
    }
   ],
   "source": [
    "## Getting the absolute path\n",
    "relative_path='example.txt'\n",
    "absolute_path = os.path.abspath(relative_path)\n",
    "print(absolute_path)"
   ]
  }
 ],
 "metadata": {
  "kernelspec": {
   "display_name": "Python 3",
   "language": "python",
   "name": "python3"
  },
  "language_info": {
   "codemirror_mode": {
    "name": "ipython",
    "version": 3
   },
   "file_extension": ".py",
   "mimetype": "text/x-python",
   "name": "python",
   "nbconvert_exporter": "python",
   "pygments_lexer": "ipython3",
   "version": "3.12.0"
  }
 },
 "nbformat": 4,
 "nbformat_minor": 2
}
