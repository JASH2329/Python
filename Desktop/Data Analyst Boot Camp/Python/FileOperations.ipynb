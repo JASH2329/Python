{
 "cells": [
  {
   "cell_type": "code",
   "execution_count": 7,
   "metadata": {},
   "outputs": [
    {
     "name": "stdout",
     "output_type": "stream",
     "text": [
      "Data Analyst \n",
      "Business Analyst \n",
      "Business Data Analyst \n",
      "\n"
     ]
    }
   ],
   "source": [
    "## Read a whole file \n",
    "\n",
    "with open('example.txt', 'r') as file:\n",
    "    content=file.read() # Here the content is the variable\n",
    "    print(content)"
   ]
  },
  {
   "cell_type": "code",
   "execution_count": 8,
   "metadata": {},
   "outputs": [
    {
     "name": "stdout",
     "output_type": "stream",
     "text": [
      "Data Analyst\n",
      "Business Analyst\n",
      "Business Data Analyst\n"
     ]
    }
   ],
   "source": [
    "## Read a file line by line \n",
    "\n",
    "with open('example.txt', 'r') as file:\n",
    "    for line in file:\n",
    "        print(line.strip()) ## strip removes spaces from the operation "
   ]
  },
  {
   "cell_type": "code",
   "execution_count": 9,
   "metadata": {},
   "outputs": [],
   "source": [
    "## Writing a file(Overwriting)\n",
    "\n",
    "with open('example.txt', 'w') as file:\n",
    "    file.write('Hello World\\n')\n",
    "    file.write('I got selected as a Data Analyst')\n",
    "\n",
    "\n"
   ]
  },
  {
   "cell_type": "code",
   "execution_count": 10,
   "metadata": {},
   "outputs": [],
   "source": [
    "## Write a file(Without Overwriting)\n",
    "with open('example.txt','a') as file: # a=Append\n",
    "    file.write(\"\\nIn the month of august\\n\")"
   ]
  },
  {
   "cell_type": "code",
   "execution_count": 11,
   "metadata": {},
   "outputs": [],
   "source": [
    "### Writing a list of lines to a file\n",
    "\n",
    "lines = ['Data Analyst \\n', 'Business Analyst \\n', 'Business Data Analyst \\n']\n",
    "with open('example.txt', 'w') as file:\n",
    "    file.writelines(lines)"
   ]
  },
  {
   "cell_type": "code",
   "execution_count": 12,
   "metadata": {},
   "outputs": [],
   "source": [
    "# Binary Files\n",
    "\n",
    "data = b'\\x00\\x01\\x03\\x04'\n",
    "with open('example.bin','wb') as file:\n",
    "    file.write(data)"
   ]
  },
  {
   "cell_type": "code",
   "execution_count": 13,
   "metadata": {},
   "outputs": [
    {
     "name": "stdout",
     "output_type": "stream",
     "text": [
      "b'\\x00\\x01\\x03\\x04'\n"
     ]
    }
   ],
   "source": [
    "# Reading a binary file\n",
    "\n",
    "with open('example.bin', 'rb') as file:\n",
    "    content = file.read()\n",
    "    print(content)"
   ]
  },
  {
   "cell_type": "code",
   "execution_count": 14,
   "metadata": {},
   "outputs": [],
   "source": [
    "### Read the content froma  source text fiile and write to a destination text file\n",
    "# Copying a text file\n",
    "\n",
    "with open('example.txt', 'r') as source_file:\n",
    "    content = source_file.read()\n",
    "\n",
    "with open('Practice.txt', 'w') as destination_file:\n",
    "    destination_file.write(content)"
   ]
  },
  {
   "cell_type": "code",
   "execution_count": 15,
   "metadata": {},
   "outputs": [
    {
     "name": "stdout",
     "output_type": "stream",
     "text": [
      "3 7 55\n"
     ]
    }
   ],
   "source": [
    "#Read a text file and count the number of lines, words, and characters.\n",
    "# Counting lines, words, and characters in a text file\n",
    "\n",
    "def count_text_file(file_path):\n",
    "    with open(file_path, 'r') as file:\n",
    "        lines = file.readlines()\n",
    "        line_count = len(lines)\n",
    "        word_count = sum(len(line.split()) for line in lines)\n",
    "        char_count = sum(len(line) for line in lines)\n",
    "    return line_count, word_count, char_count\n",
    "\n",
    "file_path = 'example.txt'\n",
    "lines, words, characters = count_text_file(file_path)\n",
    "print(lines, words, characters)"
   ]
  },
  {
   "cell_type": "code",
   "execution_count": 17,
   "metadata": {},
   "outputs": [],
   "source": [
    "#The w+ mode in Python is used to open a file for both reading and writing. If the file does not exist, it will be created. If the file exists, its content is truncated (i.e., the file is overwritten).\n",
    "    "
   ]
  },
  {
   "cell_type": "code",
   "execution_count": 18,
   "metadata": {},
   "outputs": [
    {
     "name": "stdout",
     "output_type": "stream",
     "text": [
      "I am now learning pythonI will complete the basic today and start the data analysis with python\n"
     ]
    }
   ],
   "source": [
    "### Writing and then reading a file with w+ mode\n",
    "\n",
    "with open('example.txt', 'w+') as file:\n",
    "    file.write(\"I am now learning python\")\n",
    "    file.write(\"I will complete the basic today and start the data analysis with python\")\n",
    "\n",
    "       ## Move the file cursor to the beginning\n",
    "    file.seek(0)\n",
    "\n",
    "    ## Read the content of the file \n",
    "    content = file.read()\n",
    "    print(content)\n",
    "\n",
    "\n",
    "\n",
    "   ## Move the file cursor to the beginning\n",
    "       "
   ]
  },
  {
   "cell_type": "code",
   "execution_count": null,
   "metadata": {},
   "outputs": [],
   "source": []
  }
 ],
 "metadata": {
  "kernelspec": {
   "display_name": "Python 3",
   "language": "python",
   "name": "python3"
  },
  "language_info": {
   "codemirror_mode": {
    "name": "ipython",
    "version": 3
   },
   "file_extension": ".py",
   "mimetype": "text/x-python",
   "name": "python",
   "nbconvert_exporter": "python",
   "pygments_lexer": "ipython3",
   "version": "3.12.0"
  }
 },
 "nbformat": 4,
 "nbformat_minor": 2
}
